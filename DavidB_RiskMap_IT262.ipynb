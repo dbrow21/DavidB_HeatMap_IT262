{
  "nbformat": 4,
  "nbformat_minor": 0,
  "metadata": {
    "colab": {
      "name": "DavidB_RiskMap_IT262.ipynb",
      "provenance": [],
      "authorship_tag": "ABX9TyOBy3ZfPhvj3njiut+B+rVB",
      "include_colab_link": true
    },
    "kernelspec": {
      "name": "python3",
      "display_name": "Python 3"
    },
    "language_info": {
      "name": "python"
    }
  },
  "cells": [
    {
      "cell_type": "markdown",
      "metadata": {
        "id": "view-in-github",
        "colab_type": "text"
      },
      "source": [
        "<a href=\"https://colab.research.google.com/github/dbrow21/DavidB_HeatMap_IT262/blob/main/DavidB_RiskMap_IT262.ipynb\" target=\"_parent\"><img src=\"https://colab.research.google.com/assets/colab-badge.svg\" alt=\"Open In Colab\"/></a>"
      ]
    },
    {
      "cell_type": "code",
      "execution_count": null,
      "metadata": {
        "id": "WQYLBSZqYLuS"
      },
      "outputs": [],
      "source": [
        "import seaborn as sns\n",
        "import pandas as pd\n",
        "import numpy as np\n",
        "\n",
        "# Create a dataframe (data table)\n",
        "\n",
        "df = pd.DataFrame(columns = ['risk', 'likelihood', 'impact', 'score'])"
      ]
    },
    {
      "cell_type": "code",
      "source": [
        "df['risk'] = ['users','team','budget','security','resources']\n",
        "\n",
        "df['likelihood'] = [.2, .3, .6, .5, .2]\n",
        "\n",
        "df['impact'] = [1, 2, 7, 10, 4]\n",
        "\n",
        "df['score'] = df['impact'] * df['likelihood']"
      ],
      "metadata": {
        "id": "LnPdjZaZZW1F"
      },
      "execution_count": null,
      "outputs": []
    },
    {
      "cell_type": "code",
      "source": [
        "df['score'] = df['impact'] * df['likelihood']\n",
        "\n",
        "scoresPivot = df.pivot('impact', 'likelihood', 'score')\n",
        "\n",
        "# replaces no labels with empty strings\n",
        "# scoresPivot.fillna('', inplace = True)\n",
        "\n",
        "print(scoresPivot)\n",
        "\n",
        "\n",
        "print()\n",
        "\n",
        "\n",
        "labelsPivot = df.pivot('impact', 'likelihood', 'risk')\n",
        "\n",
        "# replaces no labels with empty strings\n",
        "labelsPivot.fillna('', inplace = True)\n",
        "\n",
        "print(labelsPivot)\n",
        "\n",
        "\n",
        "\n",
        "# simple heatmap\n",
        "p1 = sns.heatmap(scoresPivot, cmap = 'OrRd', annot = labelsPivot, fmt = '')"
      ],
      "metadata": {
        "colab": {
          "base_uri": "https://localhost:8080/",
          "height": 542
        },
        "id": "jqYf-w22Z64A",
        "outputId": "43a276c8-b5cc-41ed-a423-9f9be5ea3078"
      },
      "execution_count": null,
      "outputs": [
        {
          "output_type": "stream",
          "name": "stdout",
          "text": [
            "likelihood  0.2  0.3  0.5  0.6\n",
            "impact                        \n",
            "1           0.2  NaN  NaN  NaN\n",
            "2           NaN  0.6  NaN  NaN\n",
            "4           0.8  NaN  NaN  NaN\n",
            "7           NaN  NaN  NaN  4.2\n",
            "10          NaN  NaN  5.0  NaN\n",
            "\n",
            "likelihood        0.2   0.3       0.5     0.6\n",
            "impact                                       \n",
            "1               users                        \n",
            "2                      team                  \n",
            "4           resources                        \n",
            "7                                      budget\n",
            "10                           security        \n"
          ]
        },
        {
          "output_type": "display_data",
          "data": {
            "image/png": "[encoded data removed]",
            "text/plain": [
              "<Figure size 432x288 with 2 Axes>"
            ]
          },
          "metadata": {
            "needs_background": "light"
          }
        }
      ]
    }
  ]
}